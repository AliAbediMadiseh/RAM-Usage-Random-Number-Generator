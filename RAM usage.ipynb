{
 "cells": [
  {
   "cell_type": "code",
   "execution_count": 23,
   "metadata": {
    "collapsed": true
   },
   "outputs": [
    {
     "ename": "SyntaxError",
     "evalue": "'break' outside loop (<ipython-input-23-f89f4e3d2059>, line 18)",
     "output_type": "error",
     "traceback": [
      "\u001b[1;36m  File \u001b[1;32m\"<ipython-input-23-f89f4e3d2059>\"\u001b[1;36m, line \u001b[1;32m18\u001b[0m\n\u001b[1;31mSyntaxError\u001b[0m\u001b[1;31m:\u001b[0m 'break' outside loop\n"
     ]
    }
   ],
   "source": [
    "import psutil\n",
    "#psutil.virtual_memory()[1] memory usage: 0 = \"total,\" 1 = \"free\" , 2 = \"percent\", 3 = \"used\"\n",
    "d1 = psutil.virtual_memory()[1]\n",
    "d2 = psutil.virtual_memory()[3]\n",
    "f = ((d1**3)*(d2 **3))**4\n",
    "f = str(f)\n",
    "seed = f\n",
    "seed = seed[25:69]\n",
    "if seed[0] == \"0\" :\n",
    "    seed = (int(int(len(seed))*\"1\")) + int(seed)\n",
    "    print(\"seed changed = \", seed)\n",
    "else:\n",
    "    print(\"seed =\",seed)\n"
   ]
  },
  {
   "cell_type": "code",
   "execution_count": 13,
   "metadata": {},
   "outputs": [],
   "source": [
    "# 10 run results :\n",
    "#1)seed = 44075093492778441904432025185560129004276323\n",
    "#2)seed = 27379089138855626497657551857750617773000742\n",
    "#3)seed changed = 12421420322933077535823848910070537724282360\n",
    "#4)seed = 62983157067906130561616390442833112770091493\n",
    "#5)seed = 34238552221616813529320977625197198126105918\n",
    "#6)seed = 31665374244170624349486852814844528591265055\n",
    "#7)seed = 36780135734897125301692378003007868185622826\n",
    "#8)seed = 40280967991324034732187108036225929672068158\n",
    "#9)seed = 43281093349456792170101133961775101989167866\n",
    "#10)seed = 21805597671058941367477483825350446123084191\n",
    "\n"
   ]
  }
 ],
 "metadata": {
  "kernelspec": {
   "display_name": "Python 3",
   "language": "python",
   "name": "python3"
  },
  "language_info": {
   "codemirror_mode": {
    "name": "ipython",
    "version": 3
   },
   "file_extension": ".py",
   "mimetype": "text/x-python",
   "name": "python",
   "nbconvert_exporter": "python",
   "pygments_lexer": "ipython3",
   "version": "3.7.6"
  }
 },
 "nbformat": 4,
 "nbformat_minor": 4
}
